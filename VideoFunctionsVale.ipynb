{
 "cells": [
  {
   "cell_type": "markdown",
   "metadata": {},
   "source": [
    "Lisa Valeria Rodriguez Alanis A01656306\n",
    "Video Functions Tarea"
   ]
  },
  {
   "cell_type": "markdown",
   "metadata": {},
   "source": [
    "Grabar video normal y guardar"
   ]
  },
  {
   "cell_type": "code",
   "execution_count": 6,
   "metadata": {},
   "outputs": [],
   "source": [
    "import cv2 \n",
    "cap = cv2.VideoCapture(0)\n",
    "width = int(cap.get(cv2.CAP_PROP_FRAME_WIDTH))\n",
    "height = int(cap.get(cv2.CAP_PROP_FRAME_HEIGHT))\n",
    "writer = cv2.VideoWriter('OriginalVideo2.mp4',cv2.VideoWriter_fourcc(*'mp4v'),20,(width,height))\n",
    "\n",
    "while True:\n",
    "    ret,  frame = cap.read()\n",
    "    if cv2.waitKey(1)&0xFF ==ord('q'):\n",
    "        break\n",
    "    writer.write(frame)\n",
    "    cv2.imshow('frame',frame)\n",
    "    writer.write(frame)\n",
    "cap.release()\n",
    "writer.release()\n",
    "cv2.destroyAllWindows()\n"
   ]
  },
  {
   "cell_type": "markdown",
   "metadata": {},
   "source": [
    "Reversear el video y guardar"
   ]
  },
  {
   "cell_type": "code",
   "execution_count": 7,
   "metadata": {},
   "outputs": [],
   "source": [
    "import cv2 \n",
    "cap =cv2.VideoCapture(\"OriginalVideo2.mp4\")\n",
    "width = int(cap.get(cv2.CAP_PROP_FRAME_WIDTH))\n",
    "height = int(cap.get(cv2.CAP_PROP_FRAME_HEIGHT))\n",
    "writer = cv2.VideoWriter('ReversedVideo.mp4',cv2.VideoWriter_fourcc(*'mp4v'),20,(width,height))\n",
    "#grab the current frame.\n",
    "check, vid =cap.read()\n",
    "frame_list=[]\n",
    "while(check==True):\n",
    "    check, vid = cap.read()\n",
    "    frame_list.append(vid)\n",
    "frame_list.pop()\n",
    "frame_list.reverse()\n",
    "\n",
    "for frame in frame_list:\n",
    "    writer.write(frame)\n",
    "    cv2.imshow(\"Frame\",frame)\n",
    "    if cv2.waitKey(1)& 0xFF == ord('q'):\n",
    "        break\n",
    "cap.release()\n",
    "writer.release() ##\n",
    "cv2.destroyAllWindows()\n"
   ]
  },
  {
   "cell_type": "markdown",
   "metadata": {},
   "source": [
    "Unir Videos y Guardarlos"
   ]
  },
  {
   "cell_type": "code",
   "execution_count": 8,
   "metadata": {},
   "outputs": [],
   "source": [
    "import cv2 \n",
    "cap = cv2.VideoCapture(\"OriginalVideo2.mp4\")\n",
    "cap2 = cv2.VideoCapture(\"ReversedVideo.mp4\")\n",
    "counter=0\n",
    "width = int(cap.get(cv2.CAP_PROP_FRAME_WIDTH))\n",
    "height = int(cap.get(cv2.CAP_PROP_FRAME_HEIGHT))\n",
    "writer = cv2.VideoWriter('VideoCompleto2.mp4',cv2.VideoWriter_fourcc(*'mp4v'),20,(width,height))\n",
    "\n",
    "while True:\n",
    "    ret,  frame = cap.read() \n",
    "    if not ret:\n",
    "        break\n",
    "    writer.write(frame)\n",
    "    cv2.imshow('frame',frame)\n",
    "    if cv2.waitKey(1)&0xFF ==ord('q'):\n",
    "        break                 \n",
    "\n",
    "while True:\n",
    "    ret,  frame = cap2.read()\n",
    "    if not ret:\n",
    "        break\n",
    "    writer.write(frame)\n",
    "    cv2.imshow('frame',frame)\n",
    "    if cv2.waitKey(1)&0xFF ==ord('q'):\n",
    "        break\n",
    "\n",
    "cap.release()\n",
    "cap2.release()\n",
    "writer.release()\n",
    "cv2.destroyAllWindows()"
   ]
  }
 ],
 "metadata": {
  "kernelspec": {
   "display_name": "Python 3",
   "language": "python",
   "name": "python3"
  },
  "language_info": {
   "codemirror_mode": {
    "name": "ipython",
    "version": 3
   },
   "file_extension": ".py",
   "mimetype": "text/x-python",
   "name": "python",
   "nbconvert_exporter": "python",
   "pygments_lexer": "ipython3",
   "version": "3.8.1"
  }
 },
 "nbformat": 4,
 "nbformat_minor": 2
}
